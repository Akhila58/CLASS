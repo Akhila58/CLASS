{
  "nbformat": 4,
  "nbformat_minor": 0,
  "metadata": {
    "colab": {
      "provenance": [],
      "authorship_tag": "ABX9TyONOYrmxbQrdHW3HojvsIFl",
      "include_colab_link": true
    },
    "kernelspec": {
      "name": "python3",
      "display_name": "Python 3"
    },
    "language_info": {
      "name": "python"
    }
  },
  "cells": [
    {
      "cell_type": "markdown",
      "metadata": {
        "id": "view-in-github",
        "colab_type": "text"
      },
      "source": [
        "<a href=\"https://colab.research.google.com/github/Akhila58/Class/blob/main/Untitled2.ipynb\" target=\"_parent\"><img src=\"https://colab.research.google.com/assets/colab-badge.svg\" alt=\"Open In Colab\"/></a>"
      ]
    },
    {
      "cell_type": "code",
      "execution_count": 8,
      "metadata": {
        "colab": {
          "base_uri": "https://localhost:8080/"
        },
        "id": "k4fshpQ_R6hE",
        "outputId": "affbf757-4237-4581-9b88-b85fdded50e3"
      },
      "outputs": [
        {
          "output_type": "execute_result",
          "data": {
            "text/plain": [
              "array([[2],\n",
              "       [5]])"
            ]
          },
          "metadata": {},
          "execution_count": 8
        }
      ],
      "source": [
        "#1) Given a 2D array arr, extract the second column.\n",
        "import numpy as np\n",
        "data=([1,2,3],[4,5,6])\n",
        "arr=np.array(data)\n",
        "arr[:,1:2]\n"
      ]
    },
    {
      "cell_type": "code",
      "source": [
        "#2) Extract a subarray from a 3x3 matrix that includes the first and second rows and the second and third columns.\n",
        "import numpy as np\n",
        "data=([[[1,2,3],[4,5,6],[7,8,9]],[[7,8,9],[7,5,4],[1,2,3]]])\n",
        "arr=np.array(data)\n",
        "arr[:,:2,1:]"
      ],
      "metadata": {
        "colab": {
          "base_uri": "https://localhost:8080/"
        },
        "id": "SyIkT8tiSJTL",
        "outputId": "82373239-90ed-41f7-bde3-5b78fc061a06"
      },
      "execution_count": 4,
      "outputs": [
        {
          "output_type": "execute_result",
          "data": {
            "text/plain": [
              "array([[[2, 3],\n",
              "        [5, 6]],\n",
              "\n",
              "       [[8, 9],\n",
              "        [5, 4]]])"
            ]
          },
          "metadata": {},
          "execution_count": 4
        }
      ]
    },
    {
      "cell_type": "code",
      "source": [
        "#3) Given a 3D array, transpose the first and second dimensions.\n",
        "import numpy as np\n",
        "data=([[[1,2,3],[4,5,6],[7,8,9]],[[7,8,9],[7,5,4],[1,2,3]]])\n",
        "arr=np.array(data)\n",
        "arr2=np.transpose(arr,(1,0,2))\n",
        "arr2"
      ],
      "metadata": {
        "colab": {
          "base_uri": "https://localhost:8080/"
        },
        "id": "1_CkOHtHSk14",
        "outputId": "ed61c841-fde1-4c09-a2ea-87c40719049d"
      },
      "execution_count": 5,
      "outputs": [
        {
          "output_type": "execute_result",
          "data": {
            "text/plain": [
              "array([[[1, 2, 3],\n",
              "        [7, 8, 9]],\n",
              "\n",
              "       [[4, 5, 6],\n",
              "        [7, 5, 4]],\n",
              "\n",
              "       [[7, 8, 9],\n",
              "        [1, 2, 3]]])"
            ]
          },
          "metadata": {},
          "execution_count": 5
        }
      ]
    },
    {
      "cell_type": "code",
      "source": [
        "#4) Transpose a 2D array and then extract a specific row from the transposed result\n",
        "import numpy as np\n",
        "data=([[1,2,3],[4,5,6]])\n",
        "arr=np.array(data)\n",
        "arr2=np.transpose(arr)\n",
        "arr2[1]"
      ],
      "metadata": {
        "colab": {
          "base_uri": "https://localhost:8080/"
        },
        "id": "X060jhyKSmk5",
        "outputId": "28b133af-d497-47ae-eb4d-f4b0606e6bb1"
      },
      "execution_count": 6,
      "outputs": [
        {
          "output_type": "execute_result",
          "data": {
            "text/plain": [
              "array([2, 5])"
            ]
          },
          "metadata": {},
          "execution_count": 6
        }
      ]
    },
    {
      "cell_type": "code",
      "source": [
        "#5) Given a 3D array, extract a 2x2 matrix from the second \"layer\" (2D array) using appropriate indexing.import numpy as np\n",
        "data=([[[1,2,3],[4,5,6],[7,8,9]],[[7,8,9],[7,5,4],[1,2,3]]])\n",
        "arr=np.array(data)\n",
        "arr[0,0:2,0:2]"
      ],
      "metadata": {
        "colab": {
          "base_uri": "https://localhost:8080/"
        },
        "id": "kOapuOY-SqiM",
        "outputId": "d45fb9de-e1c2-4be6-8f2a-5fa1cacf9749"
      },
      "execution_count": 9,
      "outputs": [
        {
          "output_type": "execute_result",
          "data": {
            "text/plain": [
              "array([[1, 2],\n",
              "       [4, 5]])"
            ]
          },
          "metadata": {},
          "execution_count": 9
        }
      ]
    }
  ]
}